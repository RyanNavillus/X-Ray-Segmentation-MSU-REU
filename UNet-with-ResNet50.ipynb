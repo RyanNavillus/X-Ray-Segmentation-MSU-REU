{
 "cells": [
  {
   "cell_type": "code",
   "execution_count": 1,
   "metadata": {},
   "outputs": [
    {
     "name": "stdout",
     "output_type": "stream",
     "text": [
      "/Users/navillus/Development/MidiLab/segmentation_models\n"
     ]
    },
    {
     "name": "stderr",
     "output_type": "stream",
     "text": [
      "Using TensorFlow backend.\n",
      "./segmentation_models/backbones/classification_models/classification_models/resnext/__init__.py:4: UserWarning: Current ResNext models are deprecated, use keras.applications ResNeXt models\n",
      "  warnings.warn('Current ResNext models are deprecated, '\n"
     ]
    }
   ],
   "source": [
    "import classification_models\n",
    "import cv2 \n",
    "import keras\n",
    "import numpy as np\n",
    "import os\n",
    "import segmentation_models\n",
    "import sys\n",
    "from keras.layers import Dense\n",
    "from keras.optimizers import Adam\n",
    "from segmentation_models import Unet\n",
    "from segmentation_models.utils import set_trainable"
   ]
  },
  {
   "cell_type": "code",
   "execution_count": 3,
   "metadata": {
    "scrolled": true
   },
   "outputs": [
    {
     "name": "stdout",
     "output_type": "stream",
     "text": [
      "WARNING:tensorflow:From /anaconda3/envs/midi-lab/lib/python3.7/site-packages/tensorflow/python/framework/op_def_library.py:263: colocate_with (from tensorflow.python.framework.ops) is deprecated and will be removed in a future version.\n",
      "Instructions for updating:\n",
      "Colocations handled automatically by placer.\n"
     ]
    },
    {
     "name": "stderr",
     "output_type": "stream",
     "text": [
      "./segmentation_models/backbones/classification_models/classification_models/resnet/models.py:50: UserWarning: Update your `Model` call to the Keras 2 API: `Model(inputs=Tensor(\"in..., outputs=Tensor(\"ac...)`\n",
      "  new_model = Model(inputs=model.input, output=resnet_base.layers[-2].output)\n"
     ]
    }
   ],
   "source": [
    "sys.path.append(\"./segmentation_models/backbones\")\n",
    "print(os.getcwd())\n",
    "\n",
    "# Create UNet model with custom resnet weights\n",
    "model = Unet('resnet50_custom', \n",
    "             classes=2, \n",
    "             input_shape=(512, 512, 3), \n",
    "             encoder_weights='imagenet', \n",
    "             activation='softmax')\n"
   ]
  },
  {
   "cell_type": "code",
   "execution_count": null,
   "metadata": {},
   "outputs": [],
   "source": [
    "#model.summary()"
   ]
  },
  {
   "cell_type": "code",
   "execution_count": 4,
   "metadata": {},
   "outputs": [],
   "source": [
    "model.compile(optimizer=Adam(lr=0.0001), loss=\"binary_crossentropy\", metrics=[\"accuracy\"])"
   ]
  },
  {
   "cell_type": "code",
   "execution_count": 5,
   "metadata": {},
   "outputs": [
    {
     "name": "stdout",
     "output_type": "stream",
     "text": [
      "(1, 512, 512, 2)\n",
      "(1, 512, 512, 2)\n"
     ]
    }
   ],
   "source": [
    "input_size = (512,512)\n",
    "def load_image(path):\n",
    "    \"\"\"Load grayscale image from path\"\"\"\n",
    "    return cv2.resize(cv2.imread(path,1), input_size)\n",
    "\n",
    "def load_binary_image(path):\n",
    "    \"\"\"Load grayscale image from path\"\"\"\n",
    "    return cv2.resize(cv2.imread(path,0), input_size)\n",
    "\n",
    "X_train = np.reshape(load_image(\"/Users/navillus/Downloads/i1.png\"), (1,512,512,3))\n",
    "X_val = np.reshape(load_image(\"/Users/navillus/Downloads/i2.png\"), (1,512,512,3))\n",
    "Y_train = np.reshape(load_binary_image(\"/Users/navillus/Downloads/m1.png\"), (512,512,1))\n",
    "Y_train = np.append(np.invert(Y_train), Y_train, axis=2)\n",
    "Y_train = np.reshape(Y_train, (1, 512, 512, 2))\n",
    "print(Y_train.shape)\n",
    "Y_val = np.reshape(load_binary_image(\"/Users/navillus/Downloads/m2.png\"), (512,512,1))\n",
    "Y_val = np.append(np.invert(Y_val), Y_val, axis=2)\n",
    "Y_val = np.reshape(Y_val, (1, 512, 512, 2))\n",
    "print(Y_val.shape)\n",
    "set_trainable(model)"
   ]
  },
  {
   "cell_type": "code",
   "execution_count": null,
   "metadata": {},
   "outputs": [],
   "source": [
    "input_size = (512,512)\n",
    "def load_image(path):\n",
    "    \"\"\"Load grayscale image from path\"\"\"\n",
    "    return cv2.resize(cv2.imread(path,1), input_size)\n",
    "\n",
    "def load_binary_image(path):\n",
    "    \"\"\"Load grayscale image from path\"\"\"\n",
    "    return cv2.resize(cv2.imread(path,0), input_size)\n",
    "\n"
   ]
  },
  {
   "cell_type": "code",
   "execution_count": 6,
   "metadata": {},
   "outputs": [
    {
     "name": "stdout",
     "output_type": "stream",
     "text": [
      "WARNING:tensorflow:From /anaconda3/envs/midi-lab/lib/python3.7/site-packages/tensorflow/python/ops/math_ops.py:3066: to_int32 (from tensorflow.python.ops.math_ops) is deprecated and will be removed in a future version.\n",
      "Instructions for updating:\n",
      "Use tf.cast instead.\n",
      "WARNING:tensorflow:From /anaconda3/envs/midi-lab/lib/python3.7/site-packages/tensorflow/python/ops/math_grad.py:102: div (from tensorflow.python.ops.math_ops) is deprecated and will be removed in a future version.\n",
      "Instructions for updating:\n",
      "Deprecated in favor of operator or tf.math.divide.\n",
      "Train on 1 samples, validate on 1 samples\n",
      "Epoch 1/2\n",
      "1/1 [==============================] - 44s 44s/step - loss: -2.1063 - acc: 0.2671 - val_loss: 1.2066 - val_acc: 0.2548\n",
      "Epoch 2/2\n",
      "1/1 [==============================] - 6s 6s/step - loss: -15.4113 - acc: 0.2885 - val_loss: -3.6640 - val_acc: 0.2551\n"
     ]
    },
    {
     "data": {
      "text/plain": [
       "<keras.callbacks.History at 0x1c5211de48>"
      ]
     },
     "execution_count": 6,
     "metadata": {},
     "output_type": "execute_result"
    }
   ],
   "source": [
    "model.fit(X_train, Y_train, validation_data=(X_val, Y_val), epochs=2, verbose=1)"
   ]
  },
  {
   "cell_type": "code",
   "execution_count": null,
   "metadata": {},
   "outputs": [],
   "source": []
  },
  {
   "cell_type": "code",
   "execution_count": null,
   "metadata": {},
   "outputs": [],
   "source": []
  }
 ],
 "metadata": {
  "kernelspec": {
   "display_name": "Python 3",
   "language": "python",
   "name": "python3"
  },
  "language_info": {
   "codemirror_mode": {
    "name": "ipython",
    "version": 3
   },
   "file_extension": ".py",
   "mimetype": "text/x-python",
   "name": "python",
   "nbconvert_exporter": "python",
   "pygments_lexer": "ipython3",
   "version": "3.7.3"
  }
 },
 "nbformat": 4,
 "nbformat_minor": 2
}
