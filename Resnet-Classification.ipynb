{
 "cells": [
  {
   "cell_type": "markdown",
   "metadata": {},
   "source": [
    "# Line Detection in Chest Radiographs\n",
    "\n",
    "The goal of this notebook is to use pretrained ImageNet models and transfer learning to identify lines in . medical images. These lines can be catheters, tubes, or many other types of medical support devices. We are using the [Stanford CheXpert dataset](https://stanfordmlgroup.github.io/competitions/chexpert/) for training and validation. \n",
    "\n",
    "This is a binary classification problem. The network will simply determine if an X-ray image contains or does not contain any medical lines with the classes `Line` and `NoLine` respectively.\n",
    "\n",
    "The end goal is to be able to use the weights in this network as a backbone for a more complex medical image segmentation network such as U-Net or Mask R-CNN."
   ]
  },
  {
   "cell_type": "markdown",
   "metadata": {},
   "source": [
    "## Python Imports"
   ]
  },
  {
   "cell_type": "code",
   "execution_count": 1,
   "metadata": {},
   "outputs": [
    {
     "name": "stderr",
     "output_type": "stream",
     "text": [
      "Using TensorFlow backend.\n"
     ]
    },
    {
     "name": "stdout",
     "output_type": "stream",
     "text": [
      "3.7.3 (default, Mar 27 2019, 22:11:17) \n",
      "[GCC 7.3.0]\n",
      "1.13.1\n"
     ]
    }
   ],
   "source": [
    "import cv2 \n",
    "import keras\n",
    "import math\n",
    "import matplotlib.pyplot as plt\n",
    "import numpy as np\n",
    "import os\n",
    "import random\n",
    "import sys\n",
    "import tensorflow as tf\n",
    "import time\n",
    "\n",
    "from keras.applications.resnet50 import ResNet50\n",
    "from keras.callbacks import EarlyStopping, ReduceLROnPlateau, ModelCheckpoint\n",
    "from keras.layers import Flatten, Dense, Dropout, Conv2D, MaxPooling2D\n",
    "from keras.models import Sequential, Model\n",
    "from keras.optimizers import SGD, Adam, RMSprop, Adagrad, Adadelta, Adamax, Nadam\n",
    "from scipy.io import loadmat\n",
    "from sklearn.preprocessing import normalize\n",
    "from skimage.transform import rescale, resize\n",
    "from tqdm import tqdm_notebook as tqdm\n",
    "\n",
    "print(sys.version)\n",
    "print(tf.__version__)\n",
    "%matplotlib inline\n",
    "os.environ['KMP_DUPLICATE_LIB_OK']='True'"
   ]
  },
  {
   "cell_type": "markdown",
   "metadata": {},
   "source": [
    "## Import Data\n",
    "\n",
    "The names of the images with lines, and those without lines, are stored in a two separate text files. We will need to read these text files, load the images, then split them into training and testing sets."
   ]
  },
  {
   "cell_type": "code",
   "execution_count": 2,
   "metadata": {},
   "outputs": [],
   "source": [
    "# Set the input image size\n",
    "input_size = (512, 512)"
   ]
  },
  {
   "cell_type": "markdown",
   "metadata": {},
   "source": [
    "**Load the image list files**\n",
    "\n",
    "Load the file containing paths to the line images, and the file containing paths to the noline images. (Loading images may take a few minutes)"
   ]
  },
  {
   "cell_type": "code",
   "execution_count": 7,
   "metadata": {},
   "outputs": [
    {
     "data": {
      "application/vnd.jupyter.widget-view+json": {
       "model_id": "cc555861c5a54ab0b641992d3dd1ae96",
       "version_major": 2,
       "version_minor": 0
      },
      "text/plain": [
       "HBox(children=(IntProgress(value=0, description='Loading Images: ', max=307, style=ProgressStyle(description_w…"
      ]
     },
     "metadata": {},
     "output_type": "display_data"
    },
    {
     "name": "stdout",
     "output_type": "stream",
     "text": [
      "\n"
     ]
    },
    {
     "data": {
      "application/vnd.jupyter.widget-view+json": {
       "model_id": "7a865674059c49d5a3604e2850cc2d2e",
       "version_major": 2,
       "version_minor": 0
      },
      "text/plain": [
       "HBox(children=(IntProgress(value=0, description='Loading Images: ', max=795, style=ProgressStyle(description_w…"
      ]
     },
     "metadata": {},
     "output_type": "display_data"
    },
    {
     "name": "stdout",
     "output_type": "stream",
     "text": [
      "\n"
     ]
    }
   ],
   "source": [
    "#base_path = \"/data/ryan_data/CheXpert/CheXpert-v1.0/train/\" # Path to CheXpert dataset train/val folder \n",
    "base_path = \"/data/mididata/rib_fracture_id/anon_chest2v_cropped/\" # Path to CheXpert dataset train/val folder \n",
    "line_path = \"./ped_line.txt\"\n",
    "noline_path = \"./ped_noline.txt\"\n",
    "\n",
    "def load_image_cv(path):\n",
    "    \"\"\"Load grayscale image from path\"\"\"\n",
    "    return cv2.imread(path)\n",
    "\n",
    "def load_samples(file_path):\n",
    "    images = []\n",
    "    count = 0\n",
    "    with open(file_path, mode=\"r\", encoding=\"utf-8\") as file:\n",
    "        count = sum(1 for line in file)\n",
    "    \n",
    "    with open(file_path, mode=\"r\", encoding=\"utf-8\") as file:\n",
    "        for image_path in tqdm(file, total=count, desc=\"Loading Images: \"):\n",
    "            path = os.path.join(base_path, image_path.rstrip())\n",
    "            image = loadmat(path, appendmat=False)['dxImage']['img'][0][0]\n",
    "            normalized_image = (image - np.min(image)) / (np.max(image) - np.min(image))\n",
    "            colored_image = cv2.cvtColor(normalized_image, cv2.COLOR_GRAY2RGB)\n",
    "            images.append(cv2.resize(colored_image, input_size))\n",
    "    return np.asarray(images)\n",
    "\n",
    "line_images = load_samples(line_path)\n",
    "noline_images = load_samples(noline_path)"
   ]
  },
  {
   "cell_type": "markdown",
   "metadata": {},
   "source": [
    "Next we plot an image of each class to check that the dataset was loaded correctly"
   ]
  },
  {
   "cell_type": "code",
   "execution_count": null,
   "metadata": {},
   "outputs": [],
   "source": [
    "fig, ax = plt.subplots(1, 2, figsize=(18, 14))\n",
    "ax[0].imshow(line_images[11], cmap=\"gray\")\n",
    "ax[0].set_title(\"Line\")\n",
    "ax[1].imshow(noline_images[11], cmap=\"gray\")\n",
    "ax[1].set_title(\"Noline\")\n",
    "plt.show()\n",
    "\n",
    "print(\"Number of line images: {}\".format(len(line_images)))\n",
    "print(\"Number of noline images: {}\".format(len(noline_images)))\n",
    "print(\"Shape of each line sample: {}\".format(line_images[0].shape))\n",
    "print(\"Shape of each noline sample: {}\".format(noline_images[0].shape))"
   ]
  },
  {
   "cell_type": "markdown",
   "metadata": {},
   "source": [
    "**Combine Data and Labels**\n",
    "\n",
    "Since our data is intially split into separate lists by class, we need to rearrange them into two ordered lists of sample images and their labels. We use the following binary labels:\n",
    "* 0 = noline\n",
    "* 1 = line"
   ]
  },
  {
   "cell_type": "code",
   "execution_count": 9,
   "metadata": {},
   "outputs": [
    {
     "name": "stdout",
     "output_type": "stream",
     "text": [
      "Class split:  27.86% line,  72.14% noline\n",
      "Samples shape: (1102, 512, 512, 3)\n",
      "Labels shape: (1102, 2)\n"
     ]
    }
   ],
   "source": [
    "# If necessary, some methods may be included to improve the class split\n",
    "total_samples = len(line_images) + len(noline_images)\n",
    "line_percent = len(line_images) / total_samples * 100\n",
    "noline_percent = len(noline_images) / total_samples * 100\n",
    "print(\"Class split: {0: .2f}% line, {1: .2f}% noline\".format(line_percent, noline_percent))\n",
    "\n",
    "# Combine data into samples and labels arrays\n",
    "samples = np.asarray([x for x in line_images] + [x for x in noline_images])\n",
    "labels = np.asarray([(1,0) for x in line_images] + [(0,1) for x in noline_images])\n",
    "\n",
    "samples = np.reshape(samples, (len(samples), input_size[0], input_size[1], 3))\n",
    "\n",
    "# Print sample and label shapes\n",
    "print(\"Samples shape: {}\".format(samples.shape))\n",
    "print(\"Labels shape: {}\".format(labels.shape))"
   ]
  },
  {
   "cell_type": "markdown",
   "metadata": {},
   "source": [
    "**Create train/test/val sets**\n",
    "\n",
    "Split the data into individual sets. Here we use a 70/15/15 split for training, validation, and testing respectively"
   ]
  },
  {
   "cell_type": "code",
   "execution_count": 21,
   "metadata": {},
   "outputs": [
    {
     "name": "stdout",
     "output_type": "stream",
     "text": [
      "Train length:\t771\n",
      "Val Length:\t165\n",
      "Test Length:\t166\n"
     ]
    }
   ],
   "source": [
    "# Randomize dataset ordering\n",
    "ordering = np.arange(len(samples))\n",
    "np.random.shuffle(ordering)\n",
    "samples = samples[ordering]\n",
    "labels = labels[ordering]\n",
    "\n",
    "\n",
    "train_split = 0.7\n",
    "val_split = 0.15\n",
    "test_split = 0.15\n",
    "n = len(samples)\n",
    "\n",
    "# Split data\n",
    "train_cutoff = int(n * train_split)\n",
    "val_cutoff = int(train_cutoff + (n * val_split))\n",
    "X_train, X_val, X_test = samples[:train_cutoff], samples[train_cutoff:val_cutoff], samples[val_cutoff:]\n",
    "Y_train, Y_val, Y_test = labels[:train_cutoff], labels[train_cutoff:val_cutoff], labels[val_cutoff:]\n",
    "\n",
    "print(\"Train length:\\t{}\\nVal Length:\\t{}\\nTest Length:\\t{}\".format(len(X_train), len(X_val), len(X_test)))"
   ]
  },
  {
   "cell_type": "markdown",
   "metadata": {},
   "source": [
    "## Build Model"
   ]
  },
  {
   "cell_type": "markdown",
   "metadata": {},
   "source": [
    "**Choose hyperparameters**"
   ]
  },
  {
   "cell_type": "code",
   "execution_count": 22,
   "metadata": {},
   "outputs": [],
   "source": [
    "dropout_rate = 0.01\n",
    "learning_rate = 0.0001"
   ]
  },
  {
   "cell_type": "markdown",
   "metadata": {},
   "source": [
    "**Create base model**\n",
    "\n",
    "We initialize the ResNet50 model, removing the final classification layer"
   ]
  },
  {
   "cell_type": "code",
   "execution_count": 70,
   "metadata": {},
   "outputs": [],
   "source": [
    "# Create the ResNet50 base model Dense(1000) layers\n",
    "# Docs: https://keras.rstudio.com/reference/application_resnet50.html\n",
    "resnet_base = ResNet50(weights=\"imagenet\", input_shape=(input_size[0], input_size[1], 3), include_top=False, pooling=\"avg\")\n",
    "\n",
    "# Uncomment for the base model summary\n",
    "#resnet_base.summary()"
   ]
  },
  {
   "cell_type": "markdown",
   "metadata": {},
   "source": [
    "**Add classification layers to ResNet**\n",
    "\n",
    "We add two dense layers and an output layer to provide some room for the network to map CNN features to our outputs. Since this is a binary classification problem, we will use the sigmoid activation function."
   ]
  },
  {
   "cell_type": "code",
   "execution_count": 71,
   "metadata": {},
   "outputs": [],
   "source": [
    "# Keras functional programming syntax: https://keras.io/getting-started/functional-api-guide/\n",
    "\n",
    "# Add 2 dense layers and a final prediction layer\n",
    "top = Dense(1024, activation=\"relu\")(resnet_base.output) # TEST: kernel_regularizer = regularizers.l2(0.05)\n",
    "top = Dense(256, activation=\"relu\")(top)\n",
    "predictions = Dense(2, activation=\"softmax\")(top)\n",
    "model = Model(inputs=resnet_base.input, outputs=predictions)\n",
    "\n",
    "# Uncomment for full model summary\n",
    "#model.summary()"
   ]
  },
  {
   "cell_type": "markdown",
   "metadata": {},
   "source": [
    "**Choose the trainable layers**\n",
    "\n",
    "Choose the layers, starting from the top of the model, to train. Since medical images are very different from natural images, we will need to leave more layers enabled for training"
   ]
  },
  {
   "cell_type": "code",
   "execution_count": 72,
   "metadata": {},
   "outputs": [],
   "source": [
    "# Disable all layers by default\n",
    "for layer in model.layers[:]:\n",
    "    layer.trainable = False\n",
    "    \n",
    "# Select all layers to train\n",
    "for layer in model.layers[:]:\n",
    "    layer.trainable = True\n",
    "    \n",
    "# Collect the trainable status of each layer\n",
    "data = []\n",
    "for layer in model.layers:\n",
    "     data.append([str(layer), str(layer.trainable)])\n",
    "\n",
    "# Print the trainable status in nice columns\n",
    "col_width = max(len(word) for row in data for word in row) + 2 \n",
    "for row in data:\n",
    "    row[0] = row[0].ljust(col_width, \".\")\n",
    "    # Uncomment to print trainable status\n",
    "    #print(\"\\t\".join(word.ljust(col_width, \" \") for word in row))"
   ]
  },
  {
   "cell_type": "markdown",
   "metadata": {},
   "source": [
    "**Compile the model**\n",
    "\n",
    "We use binary cross entropy because we have a 2-class classification problem"
   ]
  },
  {
   "cell_type": "code",
   "execution_count": 73,
   "metadata": {},
   "outputs": [],
   "source": [
    "adam = Adam(lr = learning_rate)\n",
    "model.compile(optimizer=adam, loss=\"categorical_crossentropy\", metrics=[\"accuracy\"])"
   ]
  },
  {
   "cell_type": "markdown",
   "metadata": {},
   "source": [
    "**Set up callbacks**\n",
    "\n",
    "The checkpoint path may need to be modified if you plan to run this notebook on another machine"
   ]
  },
  {
   "cell_type": "code",
   "execution_count": 74,
   "metadata": {},
   "outputs": [],
   "source": [
    "# Choose checkpoint path\n",
    "checkpoint_path = \"./ResNet_Binary_Classification\"\n",
    "os.makedirs(checkpoint_path, exist_ok=True)\n",
    "\n",
    "# Create early stopping callback\n",
    "early_stopping = EarlyStopping(monitor=\"val_loss\", patience=25)\n",
    "\n",
    "# Create checkpointer to save best model weights\n",
    "checkpointer = ModelCheckpoint(filepath=checkpoint_path + \"/weights.h5\", verbose=1, monitor=\"val_loss\", mode=\"min\", save_best_only=True)\n",
    "\n",
    "# TEST: ReduceLROnPlateau\n",
    "callback_list = [checkpointer, early_stopping]"
   ]
  },
  {
   "cell_type": "markdown",
   "metadata": {},
   "source": [
    "## Train Model"
   ]
  },
  {
   "cell_type": "markdown",
   "metadata": {},
   "source": [
    "Define Class Weights"
   ]
  },
  {
   "cell_type": "code",
   "execution_count": 75,
   "metadata": {},
   "outputs": [
    {
     "name": "stdout",
     "output_type": "stream",
     "text": [
      "Class Weights:\n",
      "  No Line: 0.721\n",
      "  Line:\t   0.279\n"
     ]
    }
   ],
   "source": [
    "class_weight = {0: noline_percent/100,\n",
    "                1: line_percent/100}\n",
    "print(\"Class Weights:\\n  No Line:{0: .3f}\\n  Line:\\t  {1: .3f}\".format(class_weight[0], class_weight[1]))"
   ]
  },
  {
   "cell_type": "markdown",
   "metadata": {},
   "source": [
    "Start Training"
   ]
  },
  {
   "cell_type": "code",
   "execution_count": 76,
   "metadata": {},
   "outputs": [
    {
     "name": "stdout",
     "output_type": "stream",
     "text": [
      "Train on 771 samples, validate on 165 samples\n",
      "Epoch 1/100\n",
      "771/771 [==============================] - 29s 38ms/step - loss: 0.1451 - acc: 0.8664 - val_loss: 0.4760 - val_acc: 0.8121\n",
      "\n",
      "Epoch 00001: val_loss improved from inf to 0.47598, saving model to ./ResNet_Binary_Classification/weights.h5\n",
      "Epoch 2/100\n",
      "771/771 [==============================] - 22s 29ms/step - loss: 0.0626 - acc: 0.9455 - val_loss: 0.3981 - val_acc: 0.8606\n",
      "\n",
      "Epoch 00002: val_loss improved from 0.47598 to 0.39810, saving model to ./ResNet_Binary_Classification/weights.h5\n",
      "Epoch 3/100\n",
      "771/771 [==============================] - 22s 29ms/step - loss: 0.0629 - acc: 0.9416 - val_loss: 0.4603 - val_acc: 0.8909\n",
      "\n",
      "Epoch 00003: val_loss did not improve from 0.39810\n",
      "Epoch 4/100\n",
      "771/771 [==============================] - 22s 29ms/step - loss: 0.0416 - acc: 0.9715 - val_loss: 0.3427 - val_acc: 0.8909\n",
      "\n",
      "Epoch 00004: val_loss improved from 0.39810 to 0.34272, saving model to ./ResNet_Binary_Classification/weights.h5\n",
      "Epoch 5/100\n",
      "771/771 [==============================] - 22s 29ms/step - loss: 0.0242 - acc: 0.9818 - val_loss: 0.4693 - val_acc: 0.9030\n",
      "\n",
      "Epoch 00005: val_loss did not improve from 0.34272\n",
      "Epoch 6/100\n",
      "771/771 [==============================] - 22s 29ms/step - loss: 0.0617 - acc: 0.9559 - val_loss: 0.4152 - val_acc: 0.8606\n",
      "\n",
      "Epoch 00006: val_loss did not improve from 0.34272\n",
      "Epoch 7/100\n",
      "771/771 [==============================] - 22s 29ms/step - loss: 0.0128 - acc: 0.9909 - val_loss: 0.3133 - val_acc: 0.9091\n",
      "\n",
      "Epoch 00007: val_loss improved from 0.34272 to 0.31331, saving model to ./ResNet_Binary_Classification/weights.h5\n",
      "Epoch 8/100\n",
      "771/771 [==============================] - 22s 29ms/step - loss: 0.0594 - acc: 0.9637 - val_loss: 3.7883 - val_acc: 0.7152\n",
      "\n",
      "Epoch 00008: val_loss did not improve from 0.31331\n",
      "Epoch 9/100\n",
      "771/771 [==============================] - 22s 29ms/step - loss: 0.0354 - acc: 0.9792 - val_loss: 0.2595 - val_acc: 0.9212\n",
      "\n",
      "Epoch 00009: val_loss improved from 0.31331 to 0.25951, saving model to ./ResNet_Binary_Classification/weights.h5\n",
      "Epoch 10/100\n",
      "771/771 [==============================] - 22s 29ms/step - loss: 0.0172 - acc: 0.9870 - val_loss: 0.2322 - val_acc: 0.9273\n",
      "\n",
      "Epoch 00010: val_loss improved from 0.25951 to 0.23223, saving model to ./ResNet_Binary_Classification/weights.h5\n",
      "Epoch 11/100\n",
      "771/771 [==============================] - 22s 29ms/step - loss: 7.3594e-04 - acc: 1.0000 - val_loss: 0.2552 - val_acc: 0.9333\n",
      "\n",
      "Epoch 00011: val_loss did not improve from 0.23223\n",
      "Epoch 12/100\n",
      "771/771 [==============================] - 22s 29ms/step - loss: 4.3182e-04 - acc: 1.0000 - val_loss: 0.2776 - val_acc: 0.9455\n",
      "\n",
      "Epoch 00012: val_loss did not improve from 0.23223\n",
      "Epoch 13/100\n",
      "771/771 [==============================] - 22s 29ms/step - loss: 2.2598e-04 - acc: 1.0000 - val_loss: 0.2928 - val_acc: 0.9515\n",
      "\n",
      "Epoch 00013: val_loss did not improve from 0.23223\n",
      "Epoch 14/100\n",
      "771/771 [==============================] - 22s 29ms/step - loss: 0.0557 - acc: 0.9624 - val_loss: 1.6016 - val_acc: 0.3091\n",
      "\n",
      "Epoch 00014: val_loss did not improve from 0.23223\n",
      "Epoch 15/100\n",
      "771/771 [==============================] - 22s 29ms/step - loss: 0.0324 - acc: 0.9728 - val_loss: 0.2761 - val_acc: 0.9212\n",
      "\n",
      "Epoch 00015: val_loss did not improve from 0.23223\n",
      "Epoch 16/100\n",
      "771/771 [==============================] - 22s 29ms/step - loss: 0.0084 - acc: 0.9935 - val_loss: 0.4550 - val_acc: 0.8970\n",
      "\n",
      "Epoch 00016: val_loss did not improve from 0.23223\n",
      "Epoch 17/100\n",
      "771/771 [==============================] - 22s 29ms/step - loss: 0.0011 - acc: 1.0000 - val_loss: 0.2734 - val_acc: 0.9394\n",
      "\n",
      "Epoch 00017: val_loss did not improve from 0.23223\n",
      "Epoch 18/100\n",
      "771/771 [==============================] - 22s 29ms/step - loss: 4.4879e-04 - acc: 1.0000 - val_loss: 0.2994 - val_acc: 0.9455\n",
      "\n",
      "Epoch 00018: val_loss did not improve from 0.23223\n",
      "Epoch 19/100\n",
      "771/771 [==============================] - 22s 29ms/step - loss: 8.3211e-04 - acc: 1.0000 - val_loss: 0.2738 - val_acc: 0.9333\n",
      "\n",
      "Epoch 00019: val_loss did not improve from 0.23223\n",
      "Epoch 20/100\n",
      "771/771 [==============================] - 22s 29ms/step - loss: 0.0076 - acc: 0.9922 - val_loss: 3.3706 - val_acc: 0.7091\n",
      "\n",
      "Epoch 00020: val_loss did not improve from 0.23223\n",
      "Epoch 21/100\n",
      "771/771 [==============================] - 23s 29ms/step - loss: 0.0288 - acc: 0.9792 - val_loss: 0.3950 - val_acc: 0.8970\n",
      "\n",
      "Epoch 00021: val_loss did not improve from 0.23223\n",
      "Epoch 22/100\n",
      "771/771 [==============================] - 23s 29ms/step - loss: 0.0180 - acc: 0.9857 - val_loss: 0.3483 - val_acc: 0.9333\n",
      "\n",
      "Epoch 00022: val_loss did not improve from 0.23223\n",
      "Epoch 23/100\n",
      "771/771 [==============================] - 23s 29ms/step - loss: 0.0053 - acc: 0.9948 - val_loss: 0.4427 - val_acc: 0.9091\n",
      "\n",
      "Epoch 00023: val_loss did not improve from 0.23223\n",
      "Epoch 24/100\n",
      "771/771 [==============================] - 23s 29ms/step - loss: 0.0137 - acc: 0.9870 - val_loss: 0.3262 - val_acc: 0.9455\n",
      "\n",
      "Epoch 00024: val_loss did not improve from 0.23223\n",
      "Epoch 25/100\n",
      "771/771 [==============================] - 23s 29ms/step - loss: 0.0182 - acc: 0.9792 - val_loss: 0.4344 - val_acc: 0.9333\n",
      "\n",
      "Epoch 00025: val_loss did not improve from 0.23223\n",
      "Epoch 26/100\n",
      "771/771 [==============================] - 23s 29ms/step - loss: 0.0284 - acc: 0.9831 - val_loss: 0.2953 - val_acc: 0.9091\n",
      "\n",
      "Epoch 00026: val_loss did not improve from 0.23223\n",
      "Epoch 27/100\n",
      "771/771 [==============================] - 23s 29ms/step - loss: 0.0039 - acc: 0.9974 - val_loss: 0.2602 - val_acc: 0.9515\n",
      "\n",
      "Epoch 00027: val_loss did not improve from 0.23223\n",
      "Epoch 28/100\n",
      "771/771 [==============================] - 23s 29ms/step - loss: 2.5198e-04 - acc: 1.0000 - val_loss: 0.3300 - val_acc: 0.9515\n",
      "\n",
      "Epoch 00028: val_loss did not improve from 0.23223\n",
      "Epoch 29/100\n",
      "771/771 [==============================] - 23s 29ms/step - loss: 1.1952e-04 - acc: 1.0000 - val_loss: 0.3449 - val_acc: 0.9515\n",
      "\n",
      "Epoch 00029: val_loss did not improve from 0.23223\n",
      "Epoch 30/100\n",
      "771/771 [==============================] - 23s 29ms/step - loss: 6.4939e-05 - acc: 1.0000 - val_loss: 0.3580 - val_acc: 0.9515\n",
      "\n",
      "Epoch 00030: val_loss did not improve from 0.23223\n",
      "Epoch 31/100\n",
      "771/771 [==============================] - 23s 29ms/step - loss: 5.5411e-05 - acc: 1.0000 - val_loss: 0.3668 - val_acc: 0.9515\n",
      "\n",
      "Epoch 00031: val_loss did not improve from 0.23223\n",
      "Epoch 32/100\n",
      "771/771 [==============================] - 23s 29ms/step - loss: 7.0878e-05 - acc: 1.0000 - val_loss: 0.3753 - val_acc: 0.9515\n",
      "\n",
      "Epoch 00032: val_loss did not improve from 0.23223\n",
      "Epoch 33/100\n",
      "771/771 [==============================] - 23s 29ms/step - loss: 4.1676e-05 - acc: 1.0000 - val_loss: 0.3928 - val_acc: 0.9515\n",
      "\n",
      "Epoch 00033: val_loss did not improve from 0.23223\n",
      "Epoch 34/100\n",
      "771/771 [==============================] - 23s 29ms/step - loss: 5.7033e-05 - acc: 1.0000 - val_loss: 0.4199 - val_acc: 0.9515\n",
      "\n",
      "Epoch 00034: val_loss did not improve from 0.23223\n",
      "Epoch 35/100\n",
      "771/771 [==============================] - 23s 29ms/step - loss: 5.4482e-04 - acc: 1.0000 - val_loss: 0.3697 - val_acc: 0.9333\n",
      "\n",
      "Epoch 00035: val_loss did not improve from 0.23223\n"
     ]
    }
   ],
   "source": [
    "history = model.fit(X_train, \n",
    "          Y_train, \n",
    "          batch_size=8, \n",
    "          epochs=100, \n",
    "          verbose=1, \n",
    "          class_weight=class_weight,\n",
    "          validation_data=(X_val, Y_val), \n",
    "          callbacks=callback_list)\n"
   ]
  },
  {
   "cell_type": "markdown",
   "metadata": {},
   "source": [
    "**Plot Results**"
   ]
  },
  {
   "cell_type": "code",
   "execution_count": 78,
   "metadata": {},
   "outputs": [
    {
     "data": {
      "image/png": "[encoded data removed]",
      "text/plain": [
       "<Figure size 432x288 with 1 Axes>"
      ]
     },
     "metadata": {
      "needs_background": "light"
     },
     "output_type": "display_data"
    },
    {
     "data": {
      "image/png": "[encoded data removed]",
      "text/plain": [
       "<Figure size 432x288 with 1 Axes>"
      ]
     },
     "metadata": {
      "needs_background": "light"
     },
     "output_type": "display_data"
    }
   ],
   "source": [
    "# Plot training & validation accuracy values\n",
    "plt.figure(figsize=(14,10))\n",
    "plt.plot(history.history['acc'])\n",
    "plt.plot(history.history['val_acc'])\n",
    "plt.title('Model accuracy')\n",
    "plt.ylabel('Accuracy')\n",
    "plt.xlabel('Epoch')\n",
    "plt.legend(['Train', 'Test'], loc='upper left')\n",
    "plt.show()\n",
    "\n",
    "# Plot training & validation loss values\n",
    "plt.plot(history.history['loss'])\n",
    "plt.plot(history.history['val_loss'])\n",
    "plt.title('Model loss')\n",
    "plt.ylabel('Loss')\n",
    "plt.xlabel('Epoch')\n",
    "plt.legend(['Train', 'Test'], loc='upper left')\n",
    "plt.show()"
   ]
  },
  {
   "cell_type": "markdown",
   "metadata": {},
   "source": [
    "## Predictions"
   ]
  },
  {
   "cell_type": "markdown",
   "metadata": {},
   "source": [
    "**Load best weights from checkpointer**"
   ]
  },
  {
   "cell_type": "code",
   "execution_count": 79,
   "metadata": {},
   "outputs": [],
   "source": [
    "model.load_weights(checkpoint_path + \"/weights.h5\")"
   ]
  },
  {
   "cell_type": "markdown",
   "metadata": {},
   "source": [
    "**Score the model with our test set**"
   ]
  },
  {
   "cell_type": "code",
   "execution_count": 81,
   "metadata": {},
   "outputs": [
    {
     "name": "stdout",
     "output_type": "stream",
     "text": [
      "Test loss: 0.3282605703157115\n",
      "Test accuracy: 0.9397590361445783\n"
     ]
    }
   ],
   "source": [
    "loss, accuracy = model.evaluate(X_test, Y_test, verbose=0)\n",
    "print('Test loss:', loss)\n",
    "print('Test accuracy:', accuracy)"
   ]
  },
  {
   "cell_type": "markdown",
   "metadata": {},
   "source": [
    "**Generate Predictions**\n",
    "\n",
    "Generates predictions for `display_count` number of sample images from the test set. "
   ]
  },
  {
   "cell_type": "code",
   "execution_count": 86,
   "metadata": {},
   "outputs": [],
   "source": [
    "display_count = 6\n",
    "\n",
    "# Randomly choose display_count samples\n",
    "indices = np.random.choice(len(X_test), display_count)\n",
    "X_display = X_test[indices]\n",
    "Y_display = Y_test[indices]\n",
    "\n",
    "Pred_display = []\n",
    "for x in X_display:\n",
    "    x = np.reshape(x, (1, x.shape[0], x.shape[1], x.shape[2]))\n",
    "    Pred_display.append(np.argmax(model.predict(x).tolist()[0]))\n",
    "Y_display = [np.argmax(y) for y in Y_display]"
   ]
  },
  {
   "cell_type": "markdown",
   "metadata": {},
   "source": [
    "**Display Predictions**\n",
    "\n",
    "The following code displays a set of predictions (up to 16) and their associated images. If the prediction is wrong, it is highlighted in red."
   ]
  },
  {
   "cell_type": "code",
   "execution_count": null,
   "metadata": {},
   "outputs": [],
   "source": [
    "rows = math.floor((display_count**.5))\n",
    "columns = math.ceil(display_count / rows)\n",
    "\n",
    "# Create the subplots\n",
    "fig, ax = plt.subplots(rows, columns, figsize=(16,16*(rows/columns)))\n",
    "plt.subplots_adjust(left=None, bottom=None, right=None, top=None, wspace=0.25, hspace=0.25)\n",
    "\n",
    "# Format each subplot\n",
    "for i in range(rows):\n",
    "    for j in range(columns):\n",
    "        index = (i * columns) + j\n",
    "        if index >= len(X_display):\n",
    "            continue # If the index is out of bounds, skip this plot\n",
    "        ax[i][j].imshow(X_display[index]) # Display the image\n",
    "        \n",
    "        # If the prediction is wrong, display in red. Otherwise, display in black\n",
    "        color = (0,0,0,1) if Pred_display[index] == Y_display[index] else (0.8,0.1,0.1,1)\n",
    "        \n",
    "        # Display the prediction above the image\n",
    "        title = \"No Line\" if Pred_display[index] == 1 else \"Line\"\n",
    "        ax[i][j].set_title(\"{}: {}\".format(index, title), color=color)"
   ]
  },
  {
   "cell_type": "markdown",
   "metadata": {},
   "source": [
    "To examine one of the images more closely, use the following cell"
   ]
  },
  {
   "cell_type": "code",
   "execution_count": null,
   "metadata": {},
   "outputs": [],
   "source": [
    "image_id = 1\n",
    "\n",
    "fig, ax = plt.subplots(1, 1, figsize=(10,10))\n",
    "fig.tight_layout()\n",
    "plt.imshow(X_display[image_id])"
   ]
  },
  {
   "cell_type": "code",
   "execution_count": 89,
   "metadata": {},
   "outputs": [],
   "source": [
    "# Close the keras session, freeing up GPU\n",
    "keras.backend.clear_session()"
   ]
  },
  {
   "cell_type": "markdown",
   "metadata": {},
   "source": [
    "*** \n",
    "## Hyperparameter Optimization "
   ]
  },
  {
   "cell_type": "markdown",
   "metadata": {},
   "source": [
    "**Define optimizers**"
   ]
  },
  {
   "cell_type": "code",
   "execution_count": 65,
   "metadata": {},
   "outputs": [],
   "source": [
    "def sgd(lr=0.0001):\n",
    "    return SGD(lr=lr, momentum=0.9)\n",
    "\n",
    "def rmsprop(lr=0.0001):\n",
    "    return RMSprop(lr=lr, rho=0.9, epsilon=None, decay=0.0)\n",
    "\n",
    "def adagrad(lr=0.0001):\n",
    "    return Adagrad(lr=lr, epsilon=None, decay=0.0)\n",
    "\n",
    "def adadelta(lr=0.0001):\n",
    "    return Adadelta(lr=lr, rho=0.95, epsilon=None, decay=0.0)\n",
    "\n",
    "def adam(lr=0.0001):\n",
    "    return Adam(lr=lr, beta_1=0.9, beta_2=0.999, epsilon=None, decay=0.0, amsgrad=False)\n",
    "\n",
    "def adamax(lr=0.0001):\n",
    "    return Adamax(lr=lr, beta_1=0.9, beta_2=0.999, epsilon=None, decay=0.0)\n",
    "\n",
    "def nadam(lr=0.0001):\n",
    "    return Nadam(lr=lr, beta_1=0.9, beta_2=0.999, epsilon=None, schedule_decay=0.004)"
   ]
  },
  {
   "cell_type": "markdown",
   "metadata": {},
   "source": [
    "**Define model generator**"
   ]
  },
  {
   "cell_type": "code",
   "execution_count": 93,
   "metadata": {},
   "outputs": [],
   "source": [
    "from keras.wrappers.scikit_learn import KerasClassifier\n",
    "from sklearn.model_selection import GridSearchCV\n",
    "\n",
    "def create_model(training=0, learning_rate=0.0001, optimizer=\"Adam\"):    \n",
    "    # Create the ResNet50 base model Dense(1000) layers\n",
    "    resnet_base = ResNet50(weights=\"imagenet\", input_shape=(input_size[0], input_size[1], 3), include_top=False, pooling=\"avg\")\n",
    "    \n",
    "    # Add 2 dense layers and a final prediction layer\n",
    "    top = Dense(1024, activation=\"relu\")(resnet_base.output) # TEST: kernel_regularizer = regularizers.l2(0.05)\n",
    "    top = Dense(256, activation=\"relu\")(top)\n",
    "    predictions = Dense(2, activation=\"softmax\")(top)\n",
    "    model = Model(inputs=resnet_base.input, outputs=predictions)\n",
    "    \n",
    "    training = max(training, 0)\n",
    "    training = min(training, len(model.layers))\n",
    "    \n",
    "    # Disable all layers by default\n",
    "    for layer in model.layers[:]:\n",
    "        layer.trainable = False\n",
    "    \n",
    "    # Select all layers to train\n",
    "    for layer in model.layers[-training:]:\n",
    "        layer.trainable = True\n",
    "    \n",
    "    # Collect the trainable status of each layer\n",
    "    data = []\n",
    "    for layer in model.layers:\n",
    "        data.append([str(layer), str(layer.trainable)])\n",
    "\n",
    "    # Print the trainable status in nice columns\n",
    "    col_width = max(len(word) for row in data for word in row) + 2 \n",
    "    for row in data:\n",
    "        row[0] = row[0].ljust(col_width, \".\")\n",
    "        # Uncomment to print trainable status\n",
    "        #print(\"\\t\".join(word.ljust(col_width, \" \") for word in row))\n",
    "        \n",
    "    # Compile model\n",
    "    optimizers = {\n",
    "        'SGD': sgd(lr=learning_rate), \n",
    "        'RMSprop': rmsprop(lr=learning_rate), \n",
    "        'Adagrad': adagrad(lr=learning_rate), \n",
    "        'Adadelta': adadelta(lr=learning_rate), \n",
    "        'Adam': adam(lr=learning_rate), \n",
    "        'Adamax': adamax(lr=learning_rate), \n",
    "        'Nadam': nadam(lr=learning_rate)\n",
    "    }\n",
    "    op = optimizers[optimizer]\n",
    "\n",
    "    model.compile(optimizer=op, loss=\"binary_crossentropy\", metrics=[\"accuracy\"])\n",
    "    \n",
    "    return model\n",
    "\n",
    "model = KerasClassifier(build_fn=create_model, epochs=100, verbose=2)"
   ]
  },
  {
   "cell_type": "markdown",
   "metadata": {},
   "source": [
    "**Define the parameter grid**"
   ]
  },
  {
   "cell_type": "code",
   "execution_count": 96,
   "metadata": {},
   "outputs": [],
   "source": [
    "params = {\n",
    "    \"batch_size\": [16, 8, 4, 2],\n",
    "    \"training\": [3, 102, 200],\n",
    "    \"learning_rate\": [0.001, 0.0001, 0.00001],\n",
    "    \"optimizer\": ['SGD', 'RMSprop', 'Adagrad', 'Adadelta', 'Adam', 'Adamax', 'Nadam'],\n",
    "    \"class_weight\": [{0: 3., 1: 1.}],\n",
    "    \"callbacks\": [[early_stopping]]\n",
    "}"
   ]
  },
  {
   "cell_type": "markdown",
   "metadata": {},
   "source": [
    "**Perform Grid Search**"
   ]
  },
  {
   "cell_type": "code",
   "execution_count": null,
   "metadata": {},
   "outputs": [],
   "source": [
    "grid = GridSearchCV(estimator=model, param_grid=params, n_jobs=4)\n",
    "grid_result = grid.fit(samples, labels)"
   ]
  },
  {
   "cell_type": "code",
   "execution_count": null,
   "metadata": {},
   "outputs": [],
   "source": []
  }
 ],
 "metadata": {
  "kernelspec": {
   "display_name": "Python 3",
   "language": "python",
   "name": "python3"
  },
  "language_info": {
   "codemirror_mode": {
    "name": "ipython",
    "version": 3
   },
   "file_extension": ".py",
   "mimetype": "text/x-python",
   "name": "python",
   "nbconvert_exporter": "python",
   "pygments_lexer": "ipython3",
   "version": "3.7.3"
  }
 },
 "nbformat": 4,
 "nbformat_minor": 2
}
